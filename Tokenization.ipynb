{
 "cells": [
  {
   "cell_type": "code",
   "execution_count": 64,
   "id": "616fc19b-0455-4c99-ba86-8af9d63d4de9",
   "metadata": {},
   "outputs": [],
   "source": [
    "import nltk"
   ]
  },
  {
   "cell_type": "code",
   "execution_count": 25,
   "id": "631cbc23-3abd-45a2-a17b-9f634910f2c9",
   "metadata": {},
   "outputs": [],
   "source": [
    "from nltk.tokenize import word_tokenize"
   ]
  },
  {
   "cell_type": "code",
   "execution_count": 45,
   "id": "cf2ccf76-311d-4cbc-9d9c-9250b6864e06",
   "metadata": {},
   "outputs": [],
   "source": [
    "corpus = \"This is a paragraph's to learn tokenization. Tokenization means breaking text into smaller pieces called tokens.\""
   ]
  },
  {
   "cell_type": "code",
   "execution_count": 47,
   "id": "9225dcb2-d82b-42ed-a057-24ac27632836",
   "metadata": {},
   "outputs": [
    {
     "data": {
      "text/plain": [
       "\"This is a paragraph's to learn tokenization. Tokenization means breaking text into smaller pieces called tokens.\""
      ]
     },
     "execution_count": 47,
     "metadata": {},
     "output_type": "execute_result"
    }
   ],
   "source": [
    "corpus"
   ]
  },
  {
   "cell_type": "code",
   "execution_count": 49,
   "id": "1a0fe432-d1d0-4c0c-ba83-803a65a11100",
   "metadata": {},
   "outputs": [],
   "source": [
    "from nltk.tokenize import sent_tokenize"
   ]
  },
  {
   "cell_type": "code",
   "execution_count": 53,
   "id": "6ffcab4a-6ae2-4a01-a3d2-158218dd06e6",
   "metadata": {},
   "outputs": [],
   "source": [
    "sentence = sent_tokenize(corpus)"
   ]
  },
  {
   "cell_type": "code",
   "execution_count": 55,
   "id": "143fa6d7-8442-4919-b96b-ef250f0625b6",
   "metadata": {},
   "outputs": [
    {
     "name": "stdout",
     "output_type": "stream",
     "text": [
      "[\"This is a paragraph's to learn tokenization.\", 'Tokenization means breaking text into smaller pieces called tokens.']\n"
     ]
    }
   ],
   "source": [
    "print(sentence)"
   ]
  },
  {
   "cell_type": "code",
   "execution_count": 57,
   "id": "e0b67c8c-36eb-4ebc-8cbb-361acf4ca44f",
   "metadata": {},
   "outputs": [],
   "source": [
    "word_tokens = word_tokenize(corpus)"
   ]
  },
  {
   "cell_type": "code",
   "execution_count": 59,
   "id": "987660b9-f402-4f09-85a6-b550d6efdd98",
   "metadata": {},
   "outputs": [
    {
     "name": "stdout",
     "output_type": "stream",
     "text": [
      "['This', 'is', 'a', 'paragraph', \"'s\", 'to', 'learn', 'tokenization', '.', 'Tokenization', 'means', 'breaking', 'text', 'into', 'smaller', 'pieces', 'called', 'tokens', '.']\n"
     ]
    }
   ],
   "source": [
    "print(word_tokens)"
   ]
  },
  {
   "cell_type": "markdown",
   "id": "a911c891-90e3-4622-897c-cf47309fd22a",
   "metadata": {},
   "source": [
    "# Difference between wordpunct_tokenize and word_tokenize\n",
    "- word_tokenize: Uses the TreebankWordTokenizer, which follows Penn Treebank rules. It keeps contractions intact (e.g., \"you're\" stays as \"you're\" instead of splitting into \"you\" and \"re\").\n",
    "- wordpunct_tokenize: Uses a regular expression-based tokenizer, splitting words at punctuation marks. For example, \"you're\" would be tokenized as [\"you\", \"'\", \"re\"].\n"
   ]
  },
  {
   "cell_type": "code",
   "execution_count": 68,
   "id": "3acda523-190e-4986-9b4f-7f227cb50e9c",
   "metadata": {},
   "outputs": [],
   "source": [
    "from nltk.tokenize import wordpunct_tokenize"
   ]
  },
  {
   "cell_type": "code",
   "execution_count": 70,
   "id": "1daa44e0-f90b-434f-b98f-5e31f4548f75",
   "metadata": {},
   "outputs": [
    {
     "data": {
      "text/plain": [
       "['This',\n",
       " 'is',\n",
       " 'a',\n",
       " 'paragraph',\n",
       " \"'\",\n",
       " 's',\n",
       " 'to',\n",
       " 'learn',\n",
       " 'tokenization',\n",
       " '.',\n",
       " 'Tokenization',\n",
       " 'means',\n",
       " 'breaking',\n",
       " 'text',\n",
       " 'into',\n",
       " 'smaller',\n",
       " 'pieces',\n",
       " 'called',\n",
       " 'tokens',\n",
       " '.']"
      ]
     },
     "execution_count": 70,
     "metadata": {},
     "output_type": "execute_result"
    }
   ],
   "source": [
    "wordpunct_tokenize(corpus)"
   ]
  },
  {
   "cell_type": "markdown",
   "id": "1b57662a-f14c-4d5b-9725-63c1fa1e2766",
   "metadata": {},
   "source": [
    "# TreebankWordTokenizer\n",
    "The TreebankWordTokenizer in NLTK is a tokenizer that follows the Penn Treebank tokenization rules. It is designed to handle contractions, punctuation, and sentence structure in a way that aligns with linguistic conventions.\n",
    "Key Features of TreebankWordTokenizer\n",
    "- Splits contractions (e.g., \"don't\" → [\"do\", \"n't\"]).\n",
    "- Separates punctuation (e.g., \"Hello, world!\" → [\"Hello\", \",\", \"world\", \"!\"]).\n",
    "- Handles sentence-ending periods correctly.\n"
   ]
  },
  {
   "cell_type": "code",
   "execution_count": 74,
   "id": "bbac2bb6-07a9-481d-b25d-e08adeab324c",
   "metadata": {},
   "outputs": [],
   "source": [
    "from nltk.tokenize import TreebankWordTokenizer"
   ]
  },
  {
   "cell_type": "code",
   "execution_count": 78,
   "id": "48185bb2-f629-4318-8448-2a9baff7d337",
   "metadata": {},
   "outputs": [],
   "source": [
    "tokenizer = TreebankWordTokenizer()"
   ]
  },
  {
   "cell_type": "code",
   "execution_count": 80,
   "id": "76429018-c371-482b-a5f0-f2d865edc163",
   "metadata": {},
   "outputs": [
    {
     "data": {
      "text/plain": [
       "['This',\n",
       " 'is',\n",
       " 'a',\n",
       " 'paragraph',\n",
       " \"'s\",\n",
       " 'to',\n",
       " 'learn',\n",
       " 'tokenization.',\n",
       " 'Tokenization',\n",
       " 'means',\n",
       " 'breaking',\n",
       " 'text',\n",
       " 'into',\n",
       " 'smaller',\n",
       " 'pieces',\n",
       " 'called',\n",
       " 'tokens',\n",
       " '.']"
      ]
     },
     "execution_count": 80,
     "metadata": {},
     "output_type": "execute_result"
    }
   ],
   "source": [
    "tokenizer.tokenize(corpus)"
   ]
  },
  {
   "cell_type": "code",
   "execution_count": null,
   "id": "bec6eac8-ab94-4090-af30-2ecded84f09b",
   "metadata": {},
   "outputs": [],
   "source": []
  }
 ],
 "metadata": {
  "kernelspec": {
   "display_name": "Python 3 (ipykernel)",
   "language": "python",
   "name": "python3"
  },
  "language_info": {
   "codemirror_mode": {
    "name": "ipython",
    "version": 3
   },
   "file_extension": ".py",
   "mimetype": "text/x-python",
   "name": "python",
   "nbconvert_exporter": "python",
   "pygments_lexer": "ipython3",
   "version": "3.12.7"
  }
 },
 "nbformat": 4,
 "nbformat_minor": 5
}
