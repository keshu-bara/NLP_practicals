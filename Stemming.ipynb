{
 "cells": [
  {
   "cell_type": "markdown",
   "id": "73c61d04-2205-4ed7-9160-8e221ae60633",
   "metadata": {},
   "source": [
    "# Stemming\n",
    "Stemming is the process of reducing a word to its word stem that affixes to suffixes and prefixes or to the roots of words known as a lemma. Stemming is important in natural language understanding (NLU) and natural language processing (NLP)."
   ]
  },
  {
   "cell_type": "code",
   "execution_count": 3,
   "id": "84bcc2f4-1dfc-4006-82a0-9e524db994ce",
   "metadata": {},
   "outputs": [],
   "source": [
    "from nltk.stem import PorterStemmer"
   ]
  },
  {
   "cell_type": "code",
   "execution_count": 7,
   "id": "0bd8965d-aff9-4637-887d-6c786bdf4f8c",
   "metadata": {},
   "outputs": [
    {
     "data": {
      "text/plain": [
       "'eat'"
      ]
     },
     "execution_count": 7,
     "metadata": {},
     "output_type": "execute_result"
    }
   ],
   "source": [
    "PorterStemmer().stem(\"eating\")"
   ]
  },
  {
   "cell_type": "markdown",
   "id": "50b5ee3d-51a2-4651-b030-dbebc0ff4e0e",
   "metadata": {},
   "source": [
    "# PorterStemmer\n",
    "PorterStemmer is a widely used stemming algorithm in Natural Language Processing (NLP) that reduces words to their root form by removing common suffixes. It was developed by Martin Porter in 1980 and is known for its simplicity and efficiency.\n",
    "How PorterStemmer Works\n",
    "- It applies a set of rules to strip suffixes like -ing, -ed, -ly, -es from words.\n",
    "- The goal is to normalize words so that variations (e.g., running, runs, ran) are reduced to a common base (run).\n",
    "- Unlike lemmatization, stemming does not always produce valid words—it focuses on reducing words to their stem.\n",
    "\n"
   ]
  },
  {
   "cell_type": "markdown",
   "id": "fcf6218c-7ac7-4de4-8d82-ce4f16ad2c98",
   "metadata": {},
   "source": [
    "The Porter Stemmer is a widely used stemming algorithm in NLP, but it has both advantages and disadvantages.\n",
    "\n",
    "Advantages:\n",
    "\n",
    "- Efficiency – It is fast and lightweight, making it suitable for large-scale text processing.\n",
    "- Standardization – Helps normalize words by reducing them to their root form, improving search accuracy.\n",
    "- Widely Used – One of the most common stemmers, making it easy to integrate into NLP applications.\n",
    " \n",
    "Disadvantages:\n",
    "\n",
    "- Over-stemming – Sometimes reduces words too aggressively, leading to incorrect stems (e.g., happily → happili).\n",
    "- Loss of Meaning – Unlike lemmatization, it does not consider word context, which can affect accuracy.\n",
    "- Limited to English – Designed specifically for English, making it less effective for other languages\n"
   ]
  },
  {
   "cell_type": "code",
   "execution_count": 34,
   "id": "8af29465-402f-4fd4-8609-352bf02c7ee0",
   "metadata": {},
   "outputs": [],
   "source": [
    "words=[\"eating\",\"eats\",\"eaten\",\"writing\",\"writes\",\"programming\",\"programs\",\"history\",\"finally\",\"finalized\"]"
   ]
  },
  {
   "cell_type": "code",
   "execution_count": 19,
   "id": "e3f0d765-8897-42d8-b31c-9682a5d7af3f",
   "metadata": {},
   "outputs": [
    {
     "name": "stdout",
     "output_type": "stream",
     "text": [
      "eating ---> eat\n",
      "eats ---> eat\n",
      "eaten ---> eaten\n",
      "writing ---> write\n",
      "writes ---> write\n",
      "programming ---> program\n",
      "programs ---> program\n",
      "history ---> histori\n",
      "finally ---> final\n",
      "finalized ---> final\n"
     ]
    }
   ],
   "source": [
    "for word in words:\n",
    "    print(word,\"--->\",PorterStemmer().stem(word))"
   ]
  },
  {
   "cell_type": "markdown",
   "id": "549f89e3-2554-466a-8d0c-070ace7aaf07",
   "metadata": {},
   "source": [
    "# Regex Stemmer\n",
    "is a stemming approach that uses regular expressions to define rules for stripping suffixes and prefixes from words. Unlike traditional stemmers like PorterStemmer, which rely on predefined algorithms, a regex-based stemmer allows custom rule definitions for specific use cases.\n",
    "\n",
    "Advantages of Regex Stemmer\n",
    "\n",
    "- Customizable – You can define your own rules for stemming, making it adaptable to different languages and domains.\n",
    "- Fast Execution – Since regex operations are efficient, regex-based stemming is often faster than algorithmic stemmers.\n",
    "- Simple Implementation – Easy to set up using Python’s re module or NLTK’s regex stemmer.\n",
    "  \n",
    "Disadvantages of Regex Stemmer\n",
    "\n",
    "- Limited Accuracy – Regex-based stemming may not handle complex linguistic variations as well as algorithmic stemmers.\n",
    "- Requires Manual Rule Definition – Unlike PorterStemmer, which has predefined rules, regex stemmers need manual configuration.\n",
    "- Over-Stemming Risk – If regex patterns are too aggressive, they may strip too much from words, leading to incorrect stems.\n",
    "Example in Python\n",
    "from nltk.stem import RegexpStemmer\n",
    "\n"
   ]
  },
  {
   "cell_type": "code",
   "execution_count": 24,
   "id": "0f73be01-bf8a-41e4-b3bb-a077c78afdef",
   "metadata": {},
   "outputs": [
    {
     "name": "stdout",
     "output_type": "stream",
     "text": [
      "['runn', 'jump', 'agre', 'retrieval']\n"
     ]
    }
   ],
   "source": [
    "from nltk.stem import RegexpStemmer\n",
    "\n",
    "# Define a regex pattern for stemming\n",
    "stemmer = RegexpStemmer(r'ing$|s$|ed$', min=4)\n",
    "\n",
    "words = [\"running\", \"jumps\", \"agreed\", \"retrieval\"]\n",
    "stemmed_words = [stemmer.stem(word) for word in words]\n",
    "\n",
    "print(stemmed_words)  # Output: ['runn', 'jump', 'agree', 'retrieval']"
   ]
  },
  {
   "cell_type": "markdown",
   "id": "3751a4b9-20bb-4069-a778-b525006716b7",
   "metadata": {},
   "source": [
    "# Snowball Stemmer\n",
    "The **Snowball Stemmer**, also known as the **Porter2 Stemmer**, is an improved version of the **Porter Stemmer**. It was developed by **Martin Porter** and is widely used in **Natural Language Processing (NLP)** for reducing words to their root forms. Unlike the original Porter Stemmer, Snowball Stemmer supports **multiple languages** and applies more refined stemming rules.\n",
    "\n",
    "### **Advantages of Snowball Stemmer**\n",
    "- **More Accurate than Porter Stemmer** – Fixes some of the over-stemming and under-stemming issues in the original Porter algorithm.\n",
    "- **Supports Multiple Languages** – Works with languages like English, French, German, Spanish, and more.\n",
    "- **Better Handling of Word Variations** – Provides more consistent stemming results compared to older algorithms.\n",
    "\n",
    "### **Disadvantages of Snowball Stemmer**\n",
    "- **Still a Rule-Based Approach** – May not always produce linguistically correct stems.\n",
    "- **Not as Precise as Lemmatization** – Does not consider word meaning, unlike lemmatization.\n",
    "- **Limited Customization** – Users cannot easily modify its rules for domain-specific applications.\n",
    "\n",
    "For a deeper dive, check out this [GeeksforGeeks article](https://www.geeksforgeeks.org/snowball-stemmer-nlp/) or this [TutorialsPoint guide](https://www.tutorialspoint.com/understanding-snowball-stemmer-in-nlp). Let me know if you need help implementing it in Python! 🚀\n"
   ]
  },
  {
   "cell_type": "code",
   "execution_count": 28,
   "id": "ce0b0355-7376-494a-889e-87a9bbfb0c0d",
   "metadata": {},
   "outputs": [],
   "source": [
    "from nltk.stem import SnowballStemmer"
   ]
  },
  {
   "cell_type": "code",
   "execution_count": 36,
   "id": "24d1604a-4f75-4e04-9295-b0fc1777ebdf",
   "metadata": {},
   "outputs": [
    {
     "name": "stdout",
     "output_type": "stream",
     "text": [
      "eating ---> eat\n",
      "eats ---> eat\n",
      "eaten ---> eaten\n",
      "writing ---> write\n",
      "writes ---> write\n",
      "programming ---> program\n",
      "programs ---> program\n",
      "history ---> histori\n",
      "finally ---> final\n",
      "finalized ---> final\n"
     ]
    }
   ],
   "source": [
    "for word in words:\n",
    "    print(word, \"--->\" , SnowballStemmer('english').stem(word))"
   ]
  },
  {
   "cell_type": "code",
   "execution_count": null,
   "id": "4226c9a0-a4a6-47c5-84bd-6dc33650dc4b",
   "metadata": {},
   "outputs": [],
   "source": []
  }
 ],
 "metadata": {
  "kernelspec": {
   "display_name": "Python 3 (ipykernel)",
   "language": "python",
   "name": "python3"
  },
  "language_info": {
   "codemirror_mode": {
    "name": "ipython",
    "version": 3
   },
   "file_extension": ".py",
   "mimetype": "text/x-python",
   "name": "python",
   "nbconvert_exporter": "python",
   "pygments_lexer": "ipython3",
   "version": "3.12.7"
  }
 },
 "nbformat": 4,
 "nbformat_minor": 5
}
