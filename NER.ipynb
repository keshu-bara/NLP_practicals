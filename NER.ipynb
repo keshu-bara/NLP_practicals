{
 "cells": [
  {
   "cell_type": "markdown",
   "id": "f25b9f99-b46b-46fa-934b-ac293f9bbe7b",
   "metadata": {},
   "source": [
    "**Named Entity Recognition (NER)** in **NLTK** is a technique used in **Natural Language Processing (NLP)** to identify and classify entities in text into predefined categories such as **persons, locations, organizations, dates, monetary values, and more**.\n",
    "\n",
    "### **How NER Works in NLTK**\n",
    "NLTK provides a built-in function called `ne_chunk()` that performs **named entity recognition** on **POS-tagged text**. Here's a simple example:\n",
    "\n",
    "```python\n",
    "import nltk\n",
    "from nltk.tokenize import word_tokenize\n",
    "from nltk.tag import pos_tag\n",
    "from nltk.chunk import ne_chunk\n",
    "\n",
    "nltk.download('punkt')\n",
    "nltk.download('averaged_perceptron_tagger')\n",
    "nltk.download('maxent_ne_chunker')\n",
    "nltk.download('words')\n",
    "\n",
    "text = \"Barack Obama was the president of the United States.\"\n",
    "\n",
    "# Tokenize and tag parts of speech\n",
    "words = word_tokenize(text)\n",
    "pos_tags = pos_tag(words)\n",
    "\n",
    "# Perform Named Entity Recognition\n",
    "named_entities = ne_chunk(pos_tags)\n",
    "\n",
    "# Print the named entity tree\n",
    "print(named_entities)\n",
    "```\n",
    "\n",
    "### **Where is NER Used?**\n",
    "NER is widely used in various applications, including:\n",
    "- **Search Engines** – Extracting relevant entities to improve search results.\n",
    "- **Chatbots & Virtual Assistants** – Identifying names, locations, and dates in user queries.\n",
    "- **News & Information Extraction** – Automatically tagging people, places, and organizations in articles.\n",
    "- **Financial & Legal Documents** – Extracting company names, monetary values, and legal terms.\n",
    "- **Social Media Analysis** – Identifying trending topics and key figures in discussions.\n",
    "\n",
    "Want to explore more advanced NER techniques? You can check out [this guide](https://pythonprogramming.net/named-entity-recognition-nltk-tutorial/) for deeper insights! 🚀\n"
   ]
  },
  {
   "cell_type": "markdown",
   "id": "85823af7-87a7-4c34-84ba-2afab0acc6b3",
   "metadata": {},
   "source": [
    "Here’s a table of **Named Entity Recognition (NER) categories** and their descriptions:\n",
    "\n",
    "| **Entity Type**  | **Description** |\n",
    "|------------------|----------------|\n",
    "| **Person**      | Names of individuals (e.g., \"Albert Einstein\") |\n",
    "| **Organization** | Companies, institutions, political groups (e.g., \"Microsoft\") |\n",
    "| **Location**     | Cities, countries, landmarks (e.g., \"Paris\") |\n",
    "| **Date**        | Specific dates or time expressions (e.g., \"June 12, 2025\") |\n",
    "| **Money**       | Monetary values (e.g., \"$100\") |\n",
    "| **Percent**     | Percentage values (e.g., \"50%\") |\n",
    "| **Time**        | Time expressions (e.g., \"5 PM\") |\n",
    "| **Event**       | Named events (e.g., \"Olympics\") |\n",
    "| **Product**     | Physical or digital products (e.g., \"iPhone\") |\n",
    "| **Law**         | Legal references (e.g., \"GDPR\") |\n",
    "| **Work of Art** | Titles of books, movies, songs (e.g., \"Inception\") |\n",
    "\n",
    "These categories help in **text analysis, search engines, chatbots, and information extraction**. You can explore more details on [NER categories](https://learn.microsoft.com/en-us/azure/ai-services/language-service/named-entity-recognition/concepts/named-entity-categories)! 🚀 Let me know if you need examples or implementation guidance.\n"
   ]
  },
  {
   "cell_type": "code",
   "execution_count": 7,
   "id": "75ea6096-9833-4a31-b70b-b04147f79705",
   "metadata": {},
   "outputs": [],
   "source": [
    "import nltk"
   ]
  },
  {
   "cell_type": "code",
   "execution_count": 9,
   "id": "9ba36f16-a2bd-4bd0-b410-f291d0f692e0",
   "metadata": {},
   "outputs": [],
   "source": [
    "from nltk.chunk import ne_chunk"
   ]
  },
  {
   "cell_type": "code",
   "execution_count": 11,
   "id": "6c949007-f868-43aa-9f3b-4c78f6e5c057",
   "metadata": {},
   "outputs": [],
   "source": [
    "text = \"The Eiffel Tower was built from 1887 to 1889 by Gustave Eiffel, whose company specialized in building metal frameworks and structures.\""
   ]
  },
  {
   "cell_type": "code",
   "execution_count": 13,
   "id": "5cc48d43-71f7-40c9-8cf3-5898d7c187d6",
   "metadata": {},
   "outputs": [],
   "source": [
    "from nltk.tokenize import word_tokenize"
   ]
  },
  {
   "cell_type": "code",
   "execution_count": 15,
   "id": "f0e9bbd7-bccd-4bd4-81f0-d945b7bc9d05",
   "metadata": {},
   "outputs": [],
   "source": [
    "words = word_tokenize(text)"
   ]
  },
  {
   "cell_type": "code",
   "execution_count": 17,
   "id": "b81c99b7-2db0-4e30-9916-42dc42434b39",
   "metadata": {},
   "outputs": [],
   "source": [
    "pos_tags = nltk.pos_tag(words)"
   ]
  },
  {
   "cell_type": "code",
   "execution_count": null,
   "id": "556a2df0-8521-47d9-98e3-a0a8d1f02b5d",
   "metadata": {},
   "outputs": [],
   "source": [
    "nltk.download('words')"
   ]
  },
  {
   "cell_type": "code",
   "execution_count": 19,
   "id": "c47f9d63-cb53-4c33-8ca9-e8f71bf362de",
   "metadata": {},
   "outputs": [],
   "source": [
    "nre = nltk.ne_chunk(pos_tags)"
   ]
  },
  {
   "cell_type": "code",
   "execution_count": 21,
   "id": "dc9df782-717b-4fef-8af7-453ce5acc6fe",
   "metadata": {},
   "outputs": [],
   "source": [
    "nre.draw()"
   ]
  },
  {
   "cell_type": "code",
   "execution_count": null,
   "id": "a118000c-be71-4104-9734-4833576f1ff5",
   "metadata": {},
   "outputs": [],
   "source": []
  }
 ],
 "metadata": {
  "kernelspec": {
   "display_name": "Python 3 (ipykernel)",
   "language": "python",
   "name": "python3"
  },
  "language_info": {
   "codemirror_mode": {
    "name": "ipython",
    "version": 3
   },
   "file_extension": ".py",
   "mimetype": "text/x-python",
   "name": "python",
   "nbconvert_exporter": "python",
   "pygments_lexer": "ipython3",
   "version": "3.12.7"
  }
 },
 "nbformat": 4,
 "nbformat_minor": 5
}
