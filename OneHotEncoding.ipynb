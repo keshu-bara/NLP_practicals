{
 "cells": [
  {
   "cell_type": "code",
   "execution_count": 16,
   "id": "8d275c9e-9dc7-4708-ad94-d8e54a1b9c91",
   "metadata": {},
   "outputs": [],
   "source": [
    "import re\n",
    "import nltk\n",
    "from nltk.corpus import stopwords"
   ]
  },
  {
   "cell_type": "code",
   "execution_count": 17,
   "id": "207fb28b-5ed6-44fc-80bb-5e632169f40f",
   "metadata": {},
   "outputs": [],
   "source": [
    "import pandas as pd"
   ]
  },
  {
   "cell_type": "code",
   "execution_count": 18,
   "id": "93ff88e7-5921-48fb-a883-b83d4900925d",
   "metadata": {},
   "outputs": [],
   "source": [
    "import numpy as np"
   ]
  },
  {
   "cell_type": "code",
   "execution_count": 19,
   "id": "c11e8a81-a9ae-4c26-83c5-7b2ff975e426",
   "metadata": {},
   "outputs": [
    {
     "data": {
      "text/plain": [
       "array([[0., 0., 0.],\n",
       "       [0., 0., 0.],\n",
       "       [0., 0., 0.]])"
      ]
     },
     "execution_count": 19,
     "metadata": {},
     "output_type": "execute_result"
    }
   ],
   "source": [
    "a = np.array([1,2,3])\n",
    "b = np.array([4,5,6])\n",
    "c = np.zeros((3,3))\n",
    "a\n",
    "b\n",
    "c"
   ]
  },
  {
   "cell_type": "code",
   "execution_count": 20,
   "id": "209841bc-96b8-4286-80dc-75072d69003e",
   "metadata": {},
   "outputs": [
    {
     "data": {
      "text/plain": [
       "array([[0., 0., 0.],\n",
       "       [0., 0., 0.],\n",
       "       [0., 0., 0.]])"
      ]
     },
     "execution_count": 20,
     "metadata": {},
     "output_type": "execute_result"
    }
   ],
   "source": [
    "c"
   ]
  },
  {
   "cell_type": "code",
   "execution_count": 21,
   "id": "da82a8f3-e3af-4b6c-8f1d-97540dfe96b0",
   "metadata": {},
   "outputs": [
    {
     "data": {
      "text/plain": [
       "array([1, 2, 3])"
      ]
     },
     "execution_count": 21,
     "metadata": {},
     "output_type": "execute_result"
    }
   ],
   "source": [
    "a"
   ]
  },
  {
   "cell_type": "code",
   "execution_count": 22,
   "id": "c227f5de-eabb-4e01-86a3-8656f99fe750",
   "metadata": {},
   "outputs": [
    {
     "data": {
      "text/plain": [
       "array([4, 5, 6])"
      ]
     },
     "execution_count": 22,
     "metadata": {},
     "output_type": "execute_result"
    }
   ],
   "source": [
    "b"
   ]
  },
  {
   "cell_type": "code",
   "execution_count": 30,
   "id": "2fba6310-f22d-49fc-a6b7-3ea9c9e3f833",
   "metadata": {},
   "outputs": [
    {
     "data": {
      "text/plain": [
       "3"
      ]
     },
     "execution_count": 30,
     "metadata": {},
     "output_type": "execute_result"
    }
   ],
   "source": [
    "c.shape[1]"
   ]
  },
  {
   "cell_type": "markdown",
   "id": "5acb6c18-1c05-43f5-9202-dd65a1177eec",
   "metadata": {},
   "source": [
    "## One Hot Encoding"
   ]
  },
  {
   "cell_type": "code",
   "execution_count": 32,
   "id": "8b521950-e7d2-411f-be57-1e163651a997",
   "metadata": {},
   "outputs": [],
   "source": [
    "data = {1: \"The food is good\",2: \"The food is bad\",3: \"Pizza is good\"}"
   ]
  },
  {
   "cell_type": "code",
   "execution_count": 33,
   "id": "74f9a974-41c1-4195-962d-1be6ce9d2536",
   "metadata": {},
   "outputs": [
    {
     "data": {
      "text/plain": [
       "{1: 'The food is good', 2: 'The food is bad', 3: 'Pizza is good'}"
      ]
     },
     "execution_count": 33,
     "metadata": {},
     "output_type": "execute_result"
    }
   ],
   "source": [
    "data"
   ]
  },
  {
   "cell_type": "code",
   "execution_count": null,
   "id": "a3c2ec9c-965a-46ed-b26a-52d0b181ed45",
   "metadata": {},
   "outputs": [],
   "source": []
  },
  {
   "cell_type": "code",
   "execution_count": 34,
   "id": "9fecbd18-1fe0-4bab-94d9-d62c9a428ab0",
   "metadata": {},
   "outputs": [],
   "source": [
    "from nltk.stem import WordNetLemmatizer"
   ]
  },
  {
   "cell_type": "code",
   "execution_count": 35,
   "id": "9439f6eb-5a0e-4cc4-b454-3c12c5dd7ce1",
   "metadata": {},
   "outputs": [],
   "source": [
    "lemmatizer = WordNetLemmatizer()"
   ]
  },
  {
   "cell_type": "code",
   "execution_count": 36,
   "id": "1ade88d9-22c2-424a-8489-882b7c6c76b9",
   "metadata": {},
   "outputs": [],
   "source": [
    "from nltk.tokenize import word_tokenize"
   ]
  },
  {
   "cell_type": "code",
   "execution_count": 37,
   "id": "d72ea925-f79a-4d9b-bac0-9996dd9ac86f",
   "metadata": {},
   "outputs": [],
   "source": [
    "from nltk.corpus import stopwords"
   ]
  },
  {
   "cell_type": "code",
   "execution_count": 38,
   "id": "d9a61d83-a019-4362-be02-6938418c65fd",
   "metadata": {},
   "outputs": [],
   "source": [
    "stop_words = stopwords.words('english')"
   ]
  },
  {
   "cell_type": "code",
   "execution_count": 39,
   "id": "23f1f99c-4893-4f5d-b08e-902366caf3cc",
   "metadata": {},
   "outputs": [],
   "source": [
    "uniq_words = []\n",
    "vis = set()\n",
    "for _ , v in data.items():\n",
    "    for word in word_tokenize(v):\n",
    "        if word not in vis:\n",
    "            vis.add(word)\n",
    "            uniq_words.append([word])\n"
   ]
  },
  {
   "cell_type": "code",
   "execution_count": 40,
   "id": "40a4e96a-a511-4e94-b9b2-1a130d120201",
   "metadata": {},
   "outputs": [],
   "source": [
    "vector = [0]*len(uniq_words)\n",
    "oneHotEncod = {}\n",
    "\n",
    "for i in range(len(uniq_words)):\n",
    "    v = vector.copy()\n",
    "    v[i] = 1\n",
    "    oneHotEncod[uniq_words[i]] = v\n",
    "\n",
    "    \n"
   ]
  },
  {
   "cell_type": "code",
   "execution_count": 41,
   "id": "c56b4a8b-d5f5-48a1-9636-ad75a7305f79",
   "metadata": {},
   "outputs": [
    {
     "data": {
      "text/plain": [
       "{'The': [1, 0, 0, 0, 0, 0],\n",
       " 'food': [0, 1, 0, 0, 0, 0],\n",
       " 'is': [0, 0, 1, 0, 0, 0],\n",
       " 'good': [0, 0, 0, 1, 0, 0],\n",
       " 'bad': [0, 0, 0, 0, 1, 0],\n",
       " 'Pizza': [0, 0, 0, 0, 0, 1]}"
      ]
     },
     "execution_count": 41,
     "metadata": {},
     "output_type": "execute_result"
    }
   ],
   "source": [
    "oneHotEncod"
   ]
  },
  {
   "cell_type": "code",
   "execution_count": 42,
   "id": "aee3b67c-0148-4a3d-b677-53ab15cd5e96",
   "metadata": {},
   "outputs": [],
   "source": [
    "data_v = {}\n",
    "for k , v in data.items():\n",
    "    vector = []\n",
    "    for word in word_tokenize(v):\n",
    "        vector.append(oneHotEncod[word])\n",
    "    data_v[k] = np.array(vector)"
   ]
  },
  {
   "cell_type": "code",
   "execution_count": 43,
   "id": "6d521de7-9f35-474f-8e31-a1a47779e14d",
   "metadata": {},
   "outputs": [
    {
     "data": {
      "text/plain": [
       "{1: array([[1, 0, 0, 0, 0, 0],\n",
       "        [0, 1, 0, 0, 0, 0],\n",
       "        [0, 0, 1, 0, 0, 0],\n",
       "        [0, 0, 0, 1, 0, 0]]),\n",
       " 2: array([[1, 0, 0, 0, 0, 0],\n",
       "        [0, 1, 0, 0, 0, 0],\n",
       "        [0, 0, 1, 0, 0, 0],\n",
       "        [0, 0, 0, 0, 1, 0]]),\n",
       " 3: array([[0, 0, 0, 0, 0, 1],\n",
       "        [0, 0, 1, 0, 0, 0],\n",
       "        [0, 0, 0, 1, 0, 0]])}"
      ]
     },
     "execution_count": 43,
     "metadata": {},
     "output_type": "execute_result"
    }
   ],
   "source": [
    "data_v"
   ]
  },
  {
   "cell_type": "code",
   "execution_count": 44,
   "id": "763ace5b-d52f-47f7-b74f-fed6182a2faf",
   "metadata": {},
   "outputs": [],
   "source": [
    "from sklearn.preprocessing import OneHotEncoder"
   ]
  },
  {
   "cell_type": "code",
   "execution_count": 63,
   "id": "31d8cfde-2ae8-4271-82db-e60f3b0d6cfd",
   "metadata": {},
   "outputs": [],
   "source": [
    "uniq_words = []\n",
    "vis = set()\n",
    "for _ , v in data.items():\n",
    "    for word in word_tokenize(v):\n",
    "        if word not in vis:\n",
    "            vis.add(word)\n",
    "            uniq_words.append([word])"
   ]
  },
  {
   "cell_type": "code",
   "execution_count": 65,
   "id": "3928c17f-b83b-495b-9893-891485a0be83",
   "metadata": {},
   "outputs": [
    {
     "data": {
      "text/plain": [
       "[['The'], ['food'], ['is'], ['good'], ['bad'], ['Pizza']]"
      ]
     },
     "execution_count": 65,
     "metadata": {},
     "output_type": "execute_result"
    }
   ],
   "source": [
    "uniq_words"
   ]
  },
  {
   "cell_type": "code",
   "execution_count": 79,
   "id": "1cc851c6-d081-4c11-9e43-7ae723c22fce",
   "metadata": {},
   "outputs": [],
   "source": [
    "vectors = OneHotEncoder(sparse_output = False).fit_transform(uniq_words)"
   ]
  },
  {
   "cell_type": "code",
   "execution_count": null,
   "id": "0364bc5a-cef3-4404-a925-8268a5ec2446",
   "metadata": {},
   "outputs": [],
   "source": []
  }
 ],
 "metadata": {
  "kernelspec": {
   "display_name": "Python 3 (ipykernel)",
   "language": "python",
   "name": "python3"
  },
  "language_info": {
   "codemirror_mode": {
    "name": "ipython",
    "version": 3
   },
   "file_extension": ".py",
   "mimetype": "text/x-python",
   "name": "python",
   "nbconvert_exporter": "python",
   "pygments_lexer": "ipython3",
   "version": "3.12.7"
  }
 },
 "nbformat": 4,
 "nbformat_minor": 5
}
